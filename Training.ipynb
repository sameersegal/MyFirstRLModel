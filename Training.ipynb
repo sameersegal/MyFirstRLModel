{
 "cells": [
  {
   "cell_type": "markdown",
   "id": "31261e1b",
   "metadata": {},
   "source": [
    "# Dataset Exploration & Reward Model"
   ]
  },
  {
   "cell_type": "code",
   "execution_count": 1,
   "id": "93ec6755",
   "metadata": {},
   "outputs": [],
   "source": [
    "from datasets import load_dataset"
   ]
  },
  {
   "cell_type": "code",
   "execution_count": 2,
   "id": "5e2878dc",
   "metadata": {},
   "outputs": [
    {
     "name": "stdout",
     "output_type": "stream",
     "text": [
      "prompt>>\n",
      "SUBREDDIT: r/relationships\n",
      "\n",
      "TITLE: I (f/22) have to figure out if I want to still know these girls or not and would hate to sound insulting\n",
      "\n",
      "POST: Not sure if this belongs here but it's worth a try. \n",
      "\n",
      "Backstory:\n",
      "When I (f/22) went through my first real breakup 2 years ago because he needed space after a year of dating roand  it effected me more than I thought. It was a horrible time in my life due to living with my mother and finally having the chance to cut her out of my life. I can admit because of it was an emotional wreck and this guy was stable and didn't know how to deal with me. We ended by him avoiding for a month or so after going to a festival with my friends. When I think back I wish he just ended. So after he ended it added my depression I suffered but my friends helped me through it and I got rid of everything from him along with cutting contact. \n",
      "\n",
      "Now: Its been almost 3 years now and I've gotten better after counselling and mild anti depressants. My mother has been out of my life since then so there's been alot of progress. Being stronger after learning some lessons there been more insight about that time of my life but when I see him or a picture everything comes back. The emotions and memories bring me back down. \n",
      "\n",
      "His friends (both girls) are on my facebook because we get along well which is hard to find and I know they'll always have his back. But seeing him in a picture or talking to him at a convention having a conversation is tough. Crying confront of my current boyfriend is something I want to avoid. \n",
      "\n",
      "So I've been thinking that I have to cut contact with these girls because it's time to move on because it's healthier. It's best to avoid him as well. But will they be insulted? Will they accept it? Is there going to be awkwardness? I'm not sure if it's the right to do and could use some outside opinions.\n",
      "\n",
      "TL;DR:\n",
      "---\n",
      "\n",
      "\n",
      "completion>>\n",
      " I still have contact with an old ex's friends but can't stand to see or talk to him. His friends are really nice ,so how do I tell them I possibly want to unfriend them on Facebook because of him?\n",
      "---\n",
      "\n",
      "\n"
     ]
    },
    {
     "data": {
      "text/plain": [
       "(1167, 2)"
      ]
     },
     "execution_count": 2,
     "metadata": {},
     "output_type": "execute_result"
    }
   ],
   "source": [
    "dataset = load_dataset(\"trl-lib/tldr\", split=\"train[:1%]\")\n",
    "\n",
    "row = dataset[0]\n",
    "for key, value in row.items():\n",
    "    print(f\"{key}>>\\n{value}\")\n",
    "    print(\"---\\n\\n\")\n",
    "\n",
    "dataset.shape"
   ]
  },
  {
   "cell_type": "code",
   "execution_count": 3,
   "id": "9f2bf715",
   "metadata": {},
   "outputs": [
    {
     "name": "stdout",
     "output_type": "stream",
     "text": [
      "Reward for 'This is a long string that's greater than 20 characters': -35\n",
      "Reward for 'This is shorter but no okay': -7\n",
      "Reward for 'This is perfect len!': 0\n"
     ]
    }
   ],
   "source": [
    "def reward_fn(completions, **_):\n",
    "    return [-abs(20-len(c)) for c in completions]\n",
    "\n",
    "for s in  [\"This is a long string that's greater than 20 characters\", \"This is shorter but no okay\",\"This is perfect len!\"]:\n",
    "    print(f\"Reward for '{s}': {reward_fn([s])[0]}\")\n"
   ]
  },
  {
   "cell_type": "markdown",
   "id": "b5f29d4e",
   "metadata": {},
   "source": []
  }
 ],
 "metadata": {
  "kernelspec": {
   "display_name": ".venv",
   "language": "python",
   "name": "python3"
  },
  "language_info": {
   "codemirror_mode": {
    "name": "ipython",
    "version": 3
   },
   "file_extension": ".py",
   "mimetype": "text/x-python",
   "name": "python",
   "nbconvert_exporter": "python",
   "pygments_lexer": "ipython3",
   "version": "3.10.12"
  }
 },
 "nbformat": 4,
 "nbformat_minor": 5
}
