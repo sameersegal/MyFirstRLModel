{
 "cells": [
  {
   "cell_type": "code",
   "execution_count": null,
   "id": "286d96fa",
   "metadata": {},
   "outputs": [],
   "source": [
    "from train import reward_fn  \n",
    "CKPT = \"mistral-grpo-demo\""
   ]
  },
  {
   "cell_type": "code",
   "execution_count": null,
   "id": "31011f1d",
   "metadata": {},
   "outputs": [],
   "source": [
    "from datasets import load_dataset\n",
    "val_ds = load_dataset(\"trl-lib/tldr\", split=\"validation[:1%]\")\n"
   ]
  },
  {
   "cell_type": "code",
   "execution_count": null,
   "id": "835480ed",
   "metadata": {},
   "outputs": [],
   "source": [
    "from transformers import pipeline\n",
    "\n",
    "messages = [\n",
    "    {\"role\": \"system\", \"content\": \"You are a pirate chatbot who always responds in pirate speak!\"},\n",
    "    {\"role\": \"user\", \"content\": \"Who are you?\"},\n",
    "]\n",
    "chatbot = pipeline(\"text-generation\", model=CKPT)\n",
    "chatbot(messages)"
   ]
  },
  {
   "cell_type": "code",
   "execution_count": null,
   "id": "3d0bd93a",
   "metadata": {},
   "outputs": [],
   "source": [
    "from transformers import AutoTokenizer, AutoModelForCausalLM  \n",
    "\n",
    "tok  = AutoTokenizer.from_pretrained(CKPT)\n",
    "model = AutoModelForCausalLM.from_pretrained(CKPT, torch_dtype=\"auto\").cuda()\n",
    "\n",
    "scores = evaluator.simple_reward_eval(\n",
    "    model, tok,\n",
    "    prompts       = val_ds[\"prompt\"],\n",
    "    reward_fn     = reward_fn,\n",
    "    max_new_tokens= 40,\n",
    "    batch_size    = 8,\n",
    ")\n",
    "print(f\"Average reward: {scores.mean():.2f}\")\n"
   ]
  },
  {
   "cell_type": "code",
   "execution_count": null,
   "id": "e83e0377",
   "metadata": {},
   "outputs": [],
   "source": []
  }
 ],
 "metadata": {
  "kernelspec": {
   "display_name": ".venv",
   "language": "python",
   "name": "python3"
  },
  "language_info": {
   "codemirror_mode": {
    "name": "ipython",
    "version": 3
   },
   "file_extension": ".py",
   "mimetype": "text/x-python",
   "name": "python",
   "nbconvert_exporter": "python",
   "pygments_lexer": "ipython3",
   "version": "3.10.12"
  }
 },
 "nbformat": 4,
 "nbformat_minor": 5
}
