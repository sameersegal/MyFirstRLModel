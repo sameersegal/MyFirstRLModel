{
 "cells": [
  {
   "cell_type": "code",
   "execution_count": 1,
   "id": "286d96fa",
   "metadata": {},
   "outputs": [
    {
     "name": "stdout",
     "output_type": "stream",
     "text": [
      "[2025-05-23 18:13:15,475] [INFO] [real_accelerator.py:254:get_accelerator] Setting ds_accelerator to cuda (auto detect)\n"
     ]
    },
    {
     "data": {
      "application/vnd.jupyter.widget-view+json": {
       "model_id": "077f3595e7f045a98019619cdcfb7901",
       "version_major": 2,
       "version_minor": 0
      },
      "text/plain": [
       "Loading checkpoint shards:   0%|          | 0/3 [00:00<?, ?it/s]"
      ]
     },
     "metadata": {},
     "output_type": "display_data"
    }
   ],
   "source": [
    "from train import reward_fn  \n",
    "CKPT = \"mistral-grpo-demo\""
   ]
  },
  {
   "cell_type": "code",
   "execution_count": 11,
   "id": "31011f1d",
   "metadata": {},
   "outputs": [
    {
     "name": "stdout",
     "output_type": "stream",
     "text": [
      "prompt>>\n",
      " SUBREDDIT: r/AskReddit\n",
      "\n",
      "TITLE: How do you get someone out of your head?\n",
      "\n",
      "POST: Hi,\n",
      "I'm 22, and I have been with my girlfriend for 5 years now. We recently moved together. We've always loved each other intensely.\n",
      "\n",
      "Problem, I recently started to have feelings for an other person (a friend). This person has had a boyfriend for now 3 years, and has absolutely no ideas. Those feelings were so strong, it was hard to hide them. After 2 months of me being distant and really sad, my girlfriend forced me to say what was bothering me. I'm not a good liar, and now she knows.\n",
      "\n",
      "We decided to give us a week alone, I went to my parents. \n",
      "\n",
      "Now, I'm completely lost. I keep on thinking about this person, and I hate that. I would like for those feelings to go away, to leave me alone. But I can't.  \n",
      "\n",
      "What do I do? It's been 3 months now, and I'm just desperate.\n",
      "\n",
      "TL;DR:\n",
      "--\n",
      "\n",
      "\n",
      "completion>>\n",
      "  long relationship; fell in love with an other person; admitted it; would like it to disappear, though it doesn't.\n",
      "--\n",
      "\n",
      "\n"
     ]
    },
    {
     "data": {
      "text/plain": [
       "(64, 2)"
      ]
     },
     "execution_count": 11,
     "metadata": {},
     "output_type": "execute_result"
    }
   ],
   "source": [
    "from datasets import load_dataset\n",
    "val_ds = load_dataset(\"trl-lib/tldr\", split=\"validation[:1%]\")\n",
    "\n",
    "row = val_ds[0]\n",
    "for key, value in row.items():\n",
    "    print(f\"{key}>>\\n {value}\")\n",
    "    print(\"--\\n\\n\")\n",
    "val_ds.shape"
   ]
  },
  {
   "cell_type": "code",
   "execution_count": 16,
   "id": "61beae25",
   "metadata": {},
   "outputs": [
    {
     "data": {
      "application/vnd.jupyter.widget-view+json": {
       "model_id": "35206057ea754bbc99bf880f1931405b",
       "version_major": 2,
       "version_minor": 0
      },
      "text/plain": [
       "Loading checkpoint shards:   0%|          | 0/3 [00:00<?, ?it/s]"
      ]
     },
     "metadata": {},
     "output_type": "display_data"
    }
   ],
   "source": [
    "from transformers import AutoTokenizer, AutoModelForCausalLM\n",
    "import torch\n",
    "\n",
    "tok = AutoTokenizer.from_pretrained(CKPT, padding_side=\"left\")\n",
    "model = AutoModelForCausalLM.from_pretrained(\n",
    "    CKPT,\n",
    "    torch_dtype=torch.float16,          # A100-friendly\n",
    "    device_map=\"auto\"                  # splits across the 4 GPUs\n",
    ")"
   ]
  },
  {
   "cell_type": "code",
   "execution_count": 25,
   "id": "fa7d8623",
   "metadata": {},
   "outputs": [
    {
     "name": "stderr",
     "output_type": "stream",
     "text": [
      "The following generation flags are not valid and may be ignored: ['temperature']. Set `TRANSFORMERS_VERBOSITY=info` for more details.\n",
      "Setting `pad_token_id` to `eos_token_id`:2 for open-end generation.\n"
     ]
    },
    {
     "name": "stdout",
     "output_type": "stream",
     "text": [
      "Prompt:\n",
      "SUBREDDIT: r/AskReddit\n",
      "\n",
      "TITLE: How do you get someone out of your head?\n",
      "\n",
      "POST: Hi,\n",
      "I'm 22, and I have been with my girlfriend for 5 years now. We recently moved together. We've always loved each other intensely.\n",
      "\n",
      "Problem, I recently started to have feelings for an other person (a friend). This person has had a boyfriend for now 3 years, and has absolutely no ideas. Those feelings were so strong, it was hard to hide them. After 2 months of me being distant and really sad, my girlfriend forced me to say what was bothering me. I'm not a good liar, and now she knows.\n",
      "\n",
      "We decided to give us a week alone, I went to my parents. \n",
      "\n",
      "Now, I'm completely lost. I keep on thinking about this person, and I hate that. I would like for those feelings to go away, to leave me alone. But I can't.  \n",
      "\n",
      "What do I do? It's been 3 months now, and I'm just desperate.\n",
      "\n",
      "TL;DR:\n",
      "\n",
      "\n",
      "\n",
      "Summary:\n"
     ]
    },
    {
     "data": {
      "text/plain": [
       "'💔💔💔💔💔💔💔💔💔💔'"
      ]
     },
     "execution_count": 25,
     "metadata": {},
     "output_type": "execute_result"
    }
   ],
   "source": [
    "import textwrap\n",
    "\n",
    "prompt = row[\"prompt\"]\n",
    "\n",
    "print(\"Prompt:\")\n",
    "print(prompt)\n",
    "print(\"\\n\\n\")\n",
    "print(\"Summary:\")\n",
    "\n",
    "inputs   = tok(prompt, return_tensors=\"pt\").to(model.device)\n",
    "outputs  = model.generate(**inputs, max_new_tokens=40, do_sample=False, temperature=0.7)\n",
    "\n",
    "final_text = tok.decode(outputs[0], skip_special_tokens=True)\n",
    "final_text = final_text.replace(prompt, \"\")\n",
    "final_text"
   ]
  },
  {
   "cell_type": "code",
   "execution_count": 26,
   "id": "39a16471",
   "metadata": {},
   "outputs": [
    {
     "data": {
      "text/plain": [
       "10"
      ]
     },
     "execution_count": 26,
     "metadata": {},
     "output_type": "execute_result"
    }
   ],
   "source": [
    "len(final_text)"
   ]
  },
  {
   "cell_type": "code",
   "execution_count": null,
   "id": "6479f74d",
   "metadata": {},
   "outputs": [],
   "source": []
  }
 ],
 "metadata": {
  "kernelspec": {
   "display_name": ".venv",
   "language": "python",
   "name": "python3"
  },
  "language_info": {
   "codemirror_mode": {
    "name": "ipython",
    "version": 3
   },
   "file_extension": ".py",
   "mimetype": "text/x-python",
   "name": "python",
   "nbconvert_exporter": "python",
   "pygments_lexer": "ipython3",
   "version": "3.10.12"
  }
 },
 "nbformat": 4,
 "nbformat_minor": 5
}
